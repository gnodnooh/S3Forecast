{
 "cells": [
  {
   "cell_type": "markdown",
   "metadata": {},
   "source": [
    "## This notebook predicts monthly dam inflow for GRAND reservoirs\n",
    "\n",
    "More details will be described later.</br>\n",
    "\n",
    "Donghoon Lee @ May-21-2020"
   ]
  },
  {
   "cell_type": "code",
   "execution_count": null,
   "metadata": {},
   "outputs": [],
   "source": [
    "import os, sys, getopt\n",
    "import numpy as np\n",
    "import pandas as pd\n",
    "import sspred\n",
    "import time"
   ]
  },
  {
   "cell_type": "markdown",
   "metadata": {},
   "source": [
    "This script does attribute variability of seasonal and monthly streamflow to global and local predictors and predict streamflow.\n",
    "    \n",
    "Current prediction types:\n",
    "- MP1: Monthly prediction (t-1)\n",
    "- MP2: Monthly prediction (t-2)\n",
    "- MP3: Monthly prediction (t-3)"
   ]
  },
  {
   "cell_type": "code",
   "execution_count": null,
   "metadata": {},
   "outputs": [],
   "source": [
    "def attribute(args):\n",
    "    \n",
    "    # REMOVE: Argument demonstration\n",
    "    args = '--flow=/Users/dlee/data/attribute/chtc_in/dfFlowGrid813.hdf \\\n",
    "            --glob=/Users/dlee/data/attribute/chtc_in/dfPredGlob.hdf \\\n",
    "            --locl=/Users/dlee/data/attribute/chtc_in/dfPredGridLocl813.hdf \\\n",
    "            --note=test'.split()\n",
    "\n",
    "    # Arguments and Parameters control\n",
    "    isnote = False\n",
    "    try: \n",
    "        opts, args = getopt.getopt(args, '', ['flow=', 'glob=', 'locl=', 'note='])\n",
    "    except getopt.GetoptError:\n",
    "        print('{} --flow=<filename> --mon=<filename> --pred=<filename>'.format(sys.argv[0]))\n",
    "        sys.exit(2)\n",
    "    for o, a in opts:\n",
    "        if o == '--flow':\n",
    "            filnFlow = a\n",
    "        elif o == '--glob':\n",
    "            filnGlob = a\n",
    "        elif o == '--locl':\n",
    "            filnLocl = a\n",
    "        elif o == '--note':\n",
    "            isnote = True\n",
    "            note = a\n",
    "        else:\n",
    "            assert False, \"unhandled option\"\n",
    "    \n",
    "    \n",
    "    # Load required data (Please see details in \"attribute_load.py\")\n",
    "    # Flow Dataframe\n",
    "    dfFlow = pd.read_hdf(filnFlow)\n",
    "    pointList = dfFlow.columns\n",
    "    print('\"%s\" is imported.' % filnFlow)\n",
    "    # Predictor Dataframe\n",
    "    dfGlob = pd.read_hdf(filnGlob)\n",
    "    print('\"%s\" is imported.' % filnGlob)\n",
    "    dfLocl = pd.read_hdf(filnLocl)\n",
    "    print('\"%s\" is imported.' % filnLocl)\n",
    "    # Seasonal averages\n",
    "    dfFlowMo3 = dfFlow.rolling(3, min_periods=1, center=True).mean()\n",
    "    dfLoclMo3 = dfLocl.rolling(3, min_periods=1, center=True).mean()\n",
    "        \n",
    "    # Set each matching item into a tuple\n",
    "    sp1 = []         # S1: Seasonal Prediction  (Glob: 8-3, Locl: 3)\n",
    "    mp1 = []         # M1: Monthly Prediction   (Glob: 8-2, Locl: 1)\n",
    "    mp2 = []         # M2: Monthly Prediction   (Glob: 8-3, Locl: 2)\n",
    "    mp3 = []         # M3: Monthly Prediction   (Glob: 8-4, Locl: 3)\n",
    "    stime = time.time()\n",
    "    for i in range(pointList.shape[0]):\n",
    "        point_no = pointList[i]        \n",
    "        # S1 Prediction\n",
    "        dfFlow_point = dfFlowMo3[point_no]\n",
    "        dfPred_point = pd.concat([dfGlob, dfLoclMo3[point_no]], axis=1)\n",
    "        leadMat = np.array([[8,8,8,8,3,3], [3,3,3,3,3,3]])     # [[Max][Min]]\n",
    "        iargs = (dfFlow_point, dfPred_point, leadMat, 13, point_no)\n",
    "        sp1.append(sspred.predict(iargs))\n",
    "        # M1 Prediction\n",
    "        dfFlow_point = dfFlow[point_no]\n",
    "        dfPred_point = pd.concat([dfGlob, dfLocl[point_no]], axis=1)\n",
    "        leadMat = np.array([[8,8,8,8,1,1], [2,2,2,2,1,1]])     # [[Max][Min]]\n",
    "        iargs = (dfFlow_point, dfPred_point, leadMat, 13, point_no)\n",
    "        mp1.append(sspred.predict(iargs))\n",
    "        # M2 Prediction\n",
    "        dfFlow_point = dfFlow[point_no]\n",
    "        dfPred_point = pd.concat([dfGlob, dfLocl[point_no]], axis=1)\n",
    "        leadMat = np.array([[8,8,8,8,2,2], [3,3,3,3,2,2]])     # [[Max][Min]]\n",
    "        iargs = (dfFlow_point, dfPred_point, leadMat, 13, point_no)\n",
    "        mp2.append(sspred.predict(iargs))\n",
    "        # M3 Prediction\n",
    "        dfFlow_point = dfFlow[point_no]\n",
    "        dfPred_point = pd.concat([dfGlob, dfLocl[point_no]], axis=1)\n",
    "        leadMat = np.array([[8,8,8,8,3,3], [4,4,4,4,3,3]])     # [[Max][Min]]\n",
    "        iargs = (dfFlow_point, dfPred_point, leadMat, 13, point_no)\n",
    "        mp3.append(sspred.predict(iargs))\n",
    "        \n",
    "    # Printing total results\n",
    "    etime = time.time() - stime\n",
    "    print('%d points took %.2fs' % (len(sp1),etime))\n",
    "    \n",
    "    # Save prediction results\n",
    "    outfiln = os.path.splitext(filnFlow)[0].split('/')[-1]\n",
    "    if isnote:\n",
    "        outfiln = outfiln + '_' + note\n",
    "    np.savez_compressed(outfiln, sp1=sp1, mp1=mp1, mp2=mp2, mp3=mp3)\n",
    "    print('{}.npz is saved.'.format(outfiln))\n",
    "\n",
    "\n",
    "if __name__ == \"__main__\":\n",
    "    attribute(sys.argv[1:])\n"
   ]
  },
  {
   "cell_type": "code",
   "execution_count": null,
   "metadata": {},
   "outputs": [],
   "source": []
  },
  {
   "cell_type": "code",
   "execution_count": null,
   "metadata": {},
   "outputs": [],
   "source": []
  },
  {
   "cell_type": "code",
   "execution_count": null,
   "metadata": {},
   "outputs": [],
   "source": []
  },
  {
   "cell_type": "code",
   "execution_count": null,
   "metadata": {},
   "outputs": [],
   "source": []
  }
 ],
 "metadata": {
  "kernelspec": {
   "display_name": "Python 3",
   "language": "python",
   "name": "python3"
  },
  "language_info": {
   "codemirror_mode": {
    "name": "ipython",
    "version": 3
   },
   "file_extension": ".py",
   "mimetype": "text/x-python",
   "name": "python",
   "nbconvert_exporter": "python",
   "pygments_lexer": "ipython3",
   "version": "3.6.7"
  }
 },
 "nbformat": 4,
 "nbformat_minor": 4
}
