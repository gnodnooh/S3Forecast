{
 "cells": [
  {
   "cell_type": "markdown",
   "metadata": {},
   "source": [
    "## Post_Analysis1\n",
    "This notebook analyzes prediction results. Note that target dams are selected by threshold of the Degree of Regulation (DOR) from the beggining."
   ]
  },
  {
   "cell_type": "code",
   "execution_count": 1,
   "metadata": {},
   "outputs": [],
   "source": [
    "import os\n",
    "import numpy as np\n",
    "import pandas as pd\n",
    "import geopandas as gpd\n",
    "import matplotlib as mpl\n",
    "import matplotlib.pyplot as plt\n",
    "import matplotlib.gridspec as gridspec\n",
    "import matplotlib.colors as colors\n",
    "from mpl_toolkits.axes_grid1.inset_locator import inset_axes\n",
    "import seaborn as sns\n",
    "from scipy import stats\n",
    "import HydroErr as he\n",
    "from tools import save_hdf\n",
    "from itertools import compress"
   ]
  },
  {
   "cell_type": "code",
   "execution_count": 14,
   "metadata": {},
   "outputs": [
    {
     "name": "stdout",
     "output_type": "stream",
     "text": [
      "All results are loaded.\n"
     ]
    }
   ],
   "source": [
    "# Load prediction output files\n",
    "mp1=[]; mp2=[]; mp3=[]; mp4=[]; mp5=[]\n",
    "for i in range(1593):\n",
    "    # Multiple file results\n",
    "    filn = './data/chtc_out/dfFlowDams{}_manu.npz'.format(i)\n",
    "    mp1.extend(np.load(filn,allow_pickle=True)['mp1'].tolist())\n",
    "    mp2.extend(np.load(filn,allow_pickle=True)['mp2'].tolist())\n",
    "    mp3.extend(np.load(filn,allow_pickle=True)['mp3'].tolist())\n",
    "    mp4.extend(np.load(filn,allow_pickle=True)['mp4'].tolist())\n",
    "    mp5.extend(np.load(filn,allow_pickle=True)['mp5'].tolist())\n",
    "# Load predicted time-series and isFcst signs\n",
    "dfMP1 = pd.read_hdf('./data/prediction/dfMP1.hdf')\n",
    "dfMP2 = pd.read_hdf('./data/prediction/dfMP2.hdf')\n",
    "dfMP3 = pd.read_hdf('./data/prediction/dfMP3.hdf')\n",
    "dfMP4 = pd.read_hdf('./data/prediction/dfMP4.hdf')\n",
    "dfMP5 = pd.read_hdf('./data/prediction/dfMP5.hdf')\n",
    "dfMP1_sign = pd.read_hdf('./data/prediction/dfMP1_sign.hdf')\n",
    "dfMP2_sign = pd.read_hdf('./data/prediction/dfMP2_sign.hdf')\n",
    "dfMP3_sign = pd.read_hdf('./data/prediction/dfMP3_sign.hdf')\n",
    "dfMP4_sign = pd.read_hdf('./data/prediction/dfMP4_sign.hdf')\n",
    "dfMP5_sign = pd.read_hdf('./data/prediction/dfMP5_sign.hdf')\n",
    "print('All results are loaded.')"
   ]
  },
  {
   "cell_type": "code",
   "execution_count": 22,
   "metadata": {},
   "outputs": [],
   "source": [
    "# Load Dam Inflow data from SUTD\n",
    "dfFlowDams = pd.read_hdf('/Users/dlee/gdrive/gpower/data/dfFlowDams.hdf')\n",
    "ind_dams = np.load('/Users/dlee/gdrive/gpower/data/ind_dams.npz')['ind_dams']\n",
    "damList = ind_dams[0,:]\n",
    "\n",
    "# Load Degree of Regulation (DOR)\n",
    "dor = pd.read_hdf('./data/new_dor.hdf')      # The order is sorted during the process...\n",
    "dorx = dor.loc[dor.DOR2 <= 0, 'GRAND_ID']\n",
    "dorx_ind = np.isin(damList, dorx.values)\n",
    "\n",
    "# Select dams with DOR threshold\n",
    "damList = damList[dorx_ind]\n",
    "ndam = len(damList)\n",
    "mp1_reduced = list(compress(mp1, dorx_ind))\n",
    "mp2_reduced = list(compress(mp2, dorx_ind))\n",
    "mp3_reduced = list(compress(mp3, dorx_ind))\n",
    "mp4_reduced = list(compress(mp4, dorx_ind))\n",
    "mp5_reduced = list(compress(mp5, dorx_ind))\n",
    "dfMP1_sign_reduced = dfMP1_sign[dorx]\n",
    "dfMP2_sign_reduced = dfMP2_sign[dorx]\n",
    "dfMP3_sign_reduced = dfMP3_sign[dorx]\n",
    "dfMP4_sign_reduced = dfMP4_sign[dorx]\n",
    "dfMP5_sign_reduced = dfMP5_sign[dorx]\n",
    "dfFlowDams = dfFlowDams[damList]\n",
    "assert np.all([ybox['m01']['point_no'] for ybox in mp1_reduced] == damList)"
   ]
  },
  {
   "cell_type": "code",
   "execution_count": 86,
   "metadata": {},
   "outputs": [],
   "source": [
    "oni_corr = np.full([12, ndam], np.nan)\n",
    "oni_lead = oni_corr.copy()\n",
    "oni_sign = oni_corr.copy()\n",
    "nao_corr = oni_corr.copy()\n",
    "nao_lead = oni_corr.copy()\n",
    "nao_sign = oni_corr.copy()\n",
    "pdo_corr = oni_corr.copy()\n",
    "pdo_lead = oni_corr.copy()\n",
    "pdo_sign = oni_corr.copy()\n",
    "amo_corr = oni_corr.copy()\n",
    "amo_lead = oni_corr.copy()\n",
    "amo_sign = oni_corr.copy()\n",
    "flow_corr = oni_corr.copy()\n",
    "flow_lead = oni_corr.copy()\n",
    "flow_sign = oni_corr.copy()\n",
    "swvl_corr = oni_corr.copy()\n",
    "swvl_lead = oni_corr.copy()\n",
    "swvl_sign = oni_corr.copy()\n",
    "snow_corr = oni_corr.copy()\n",
    "snow_lead = oni_corr.copy()\n",
    "snow_sign = oni_corr.copy()\n",
    "for i in range(ndam):\n",
    "    # Data preparation\n",
    "    for m in range(1, 13):\n",
    "        # MP1 --------------------- #\n",
    "        mbox = mp1_reduced[i]['m%02d' % m].copy()\n",
    "        if 'oni' in mbox['maxPred']:\n",
    "            oni_corr[m-1,i] = mbox['maxcorr'][mbox['maxPred'].index('oni')]\n",
    "            oni_lead[m-1,i] = mbox['maxlead'][mbox['maxPred'].index('oni')]\n",
    "            oni_sign[m-1,i] = mbox['maxsign'][mbox['maxPred'].index('oni')]\n",
    "        if 'nao' in mbox['maxPred']:\n",
    "            nao_corr[m-1,i] = mbox['maxcorr'][mbox['maxPred'].index('nao')]\n",
    "            nao_lead[m-1,i] = mbox['maxlead'][mbox['maxPred'].index('nao')]\n",
    "            nao_sign[m-1,i] = mbox['maxsign'][mbox['maxPred'].index('nao')]\n",
    "        if 'pdo' in mbox['maxPred']:\n",
    "            pdo_corr[m-1,i] = mbox['maxcorr'][mbox['maxPred'].index('pdo')]\n",
    "            pdo_lead[m-1,i] = mbox['maxlead'][mbox['maxPred'].index('pdo')]\n",
    "            pdo_sign[m-1,i] = mbox['maxsign'][mbox['maxPred'].index('pdo')]\n",
    "        if 'amo' in mbox['maxPred']:\n",
    "            amo_corr[m-1,i] = mbox['maxcorr'][mbox['maxPred'].index('amo')]\n",
    "            amo_lead[m-1,i] = mbox['maxlead'][mbox['maxPred'].index('amo')]\n",
    "            amo_sign[m-1,i] = mbox['maxsign'][mbox['maxPred'].index('amo')]\n",
    "        if 'flow' in mbox['maxPred']:\n",
    "            flow_corr[m-1,i] = mbox['maxcorr'][mbox['maxPred'].index('flow')]\n",
    "            flow_lead[m-1,i] = mbox['maxlead'][mbox['maxPred'].index('flow')]\n",
    "            flow_sign[m-1,i] = mbox['maxsign'][mbox['maxPred'].index('flow')]\n",
    "        if 'swvl' in mbox['maxPred']:\n",
    "            swvl_corr[m-1,i] = mbox['maxcorr'][mbox['maxPred'].index('swvl')]\n",
    "            swvl_lead[m-1,i] = mbox['maxlead'][mbox['maxPred'].index('swvl')]\n",
    "            swvl_sign[m-1,i] = mbox['maxsign'][mbox['maxPred'].index('swvl')]\n",
    "        if 'snow' in mbox['maxPred']:\n",
    "            snow_corr[m-1,i] = mbox['maxcorr'][mbox['maxPred'].index('snow')]\n",
    "            snow_lead[m-1,i] = mbox['maxlead'][mbox['maxPred'].index('snow')]\n",
    "            snow_sign[m-1,i] = mbox['maxsign'][mbox['maxPred'].index('snow')]\n",
    "\n",
    "# SWVL and SNOW could be omitted during the algorithms due to multiple reasons, \n",
    "# such as monotonic value (all zero values).\n",
    "swvl_sign[np.isnan(swvl_sign)] = 0\n",
    "snow_sign[np.isnan(snow_sign)] = 0\n",
    "data = np.vstack([np.sum(oni_sign == 1, 1),\n",
    "                  np.sum(nao_sign == 1, 1),\n",
    "                  np.sum(pdo_sign == 1, 1),\n",
    "                  np.sum(amo_sign == 1, 1),\n",
    "                  np.sum(flow_sign == 1, 1),\n",
    "                  np.sum(swvl_sign == 1, 1),\n",
    "                  np.sum(snow_sign == 1, 1)])\n",
    "\n",
    "# Percentage of predcted dams\n",
    "str_month = index=['Jan','Feb','Mar','Apr','May','Jun','Jul','Aug','Sep','Oct','Nov','Dec']\n",
    "str_variable = ['ENSO','NAO','PDO','AMO','FLOW','SM','SNOW']\n",
    "dfPrctDams = pd.DataFrame(data, index=str_variable, columns=str_month)/ndam*100\n",
    "# Number of months correlated with each predictor\n",
    "NumMonCorr = np.vstack([oni_sign.sum(0),nao_sign.sum(0),amo_sign.sum(0),\n",
    "                        pdo_sign.sum(0),flow_sign.sum(0),swvl_sign.sum(0),\n",
    "                        snow_sign.sum(0)]).transpose()\n",
    "NumMonCorr = pd.DataFrame(NumMonCorr,index=dfFlowDams.columns,columns=str_variable)\n",
    "NumMonCorr.index.name = 'GRAND_ID'\n",
    "# save_hdf('./data/NumMonCorr.hdf', NumMonCorr)"
   ]
  },
  {
   "cell_type": "markdown",
   "metadata": {},
   "source": [
    "### Potential predictors and accuracy "
   ]
  },
  {
   "cell_type": "code",
   "execution_count": 87,
   "metadata": {},
   "outputs": [
    {
     "name": "stdout",
     "output_type": "stream",
     "text": [
      "Percentage of dams correlated dams across the year\n",
      "ENSO    27.0\n",
      "NAO     37.0\n",
      "PDO     28.0\n",
      "AMO     20.0\n",
      "FLOW    72.0\n",
      "SM      11.0\n",
      "SNOW    25.0\n",
      "dtype: float64\n",
      "\n",
      "Averaged number of predictors: 2.2\n"
     ]
    }
   ],
   "source": [
    "# Percentage of dams correlated dams across the year\n",
    "print('Percentage of dams correlated dams across the year')\n",
    "print(dfPrctDams.mean(1).round())\n",
    "\n",
    "# Averaged number of predictors\n",
    "AvgNumPred = oni_sign+nao_sign+pdo_sign+amo_sign+flow_sign+swvl_sign+snow_sign\n",
    "AvgNumPred = AvgNumPred.mean(1).mean()\n",
    "print('\\nAveraged number of predictors: %.1f' % AvgNumPred)\n",
    "\n",
    "if False:\n",
    "    ### This requires above loop for all MP1-5_reduced\n",
    "    # ['ENSO','NAO','PDO','AMO','FLOW','SM','SNOW']\n",
    "    temp = (data5 / data1).mean(1).round(2)\n",
    "    PrctRemain = pd.Series(temp, index = str_variable)\n",
    "    print(PrctRemain)"
   ]
  },
  {
   "cell_type": "code",
   "execution_count": 88,
   "metadata": {},
   "outputs": [
    {
     "name": "stdout",
     "output_type": "stream",
     "text": [
      "Averaged number of predicted months per each MP model\n",
      "NMON_MP1    8.1\n",
      "NMON_MP2    7.0\n",
      "NMON_MP3    6.2\n",
      "NMON_MP4    5.8\n",
      "NMON_MP5    5.2\n",
      "dtype: float64\n"
     ]
    }
   ],
   "source": [
    "# Averaged number of predicted months per each MP model\n",
    "NumMonPred = pd.DataFrame(index = dfFlowDams.columns, columns=['NMON_MP1','NMON_MP2','NMON_MP3','NMON_MP4','NMON_MP5'])\n",
    "NumMonPred['NMON_MP1'] = dfMP1_sign.sum(0)\n",
    "NumMonPred['NMON_MP2'] = dfMP2_sign.sum(0)\n",
    "NumMonPred['NMON_MP3'] = dfMP3_sign.sum(0)\n",
    "NumMonPred['NMON_MP4'] = dfMP4_sign.sum(0)\n",
    "NumMonPred['NMON_MP5'] = dfMP5_sign.sum(0)\n",
    "print('Averaged number of predicted months per each MP model')\n",
    "print(NumMonPred.mean().round(1))"
   ]
  },
  {
   "cell_type": "markdown",
   "metadata": {},
   "source": [
    "### KGE Score\n",
    "Note that the original HydroErr.py is from BYU-Hydroinformatics. Plase visit https://github.com/BYU-Hydroinformatics/HydroErr for more details."
   ]
  },
  {
   "cell_type": "code",
   "execution_count": 90,
   "metadata": {},
   "outputs": [
    {
     "name": "stdout",
     "output_type": "stream",
     "text": [
      "\n",
      "Averaged KGE values per MP model\n",
      "KGE_MP1    0.63\n",
      "KGE_MP2    0.59\n",
      "KGE_MP3    0.58\n",
      "KGE_MP4    0.57\n",
      "KGE_MP5    0.57\n",
      "dtype: float64\n",
      "\n",
      "Percent of dams with maximum KGE across all MP models\n",
      "MP1    64.0\n",
      "MP2    11.0\n",
      "MP3     8.0\n",
      "MP4     7.0\n",
      "MP5    10.0\n",
      "dtype: float64\n",
      "\n",
      "Cross-correlation of KGE for all MP models\n",
      "         KGE_MP1  KGE_MP2  KGE_MP3  KGE_MP4  KGE_MP5\n",
      "KGE_MP1     1.00     0.96     0.93     0.91     0.88\n",
      "KGE_MP2     0.96     1.00     0.98     0.96     0.94\n",
      "KGE_MP3     0.93     0.98     1.00     0.98     0.97\n",
      "KGE_MP4     0.91     0.96     0.98     1.00     0.99\n",
      "KGE_MP5     0.88     0.94     0.97     0.99     1.00\n"
     ]
    }
   ],
   "source": [
    "# Original KGE per MP model\n",
    "nkge = np.zeros([ndam,5])\n",
    "for (i, did) in enumerate(damList):\n",
    "    # Normal KGE\n",
    "    nkge[i,0] = he.kge_2012(dfMP1[did], dfFlowDams[did])\n",
    "    nkge[i,1] = he.kge_2012(dfMP2[did], dfFlowDams[did])\n",
    "    nkge[i,2] = he.kge_2012(dfMP3[did], dfFlowDams[did])\n",
    "    nkge[i,3] = he.kge_2012(dfMP4[did], dfFlowDams[did])\n",
    "    nkge[i,4] = he.kge_2012(dfMP5[did], dfFlowDams[did])\n",
    "KGE = pd.DataFrame(nkge, index=dfFlowDams.columns, \n",
    "                   columns=['KGE_MP1','KGE_MP2','KGE_MP3','KGE_MP4','KGE_MP5'])\n",
    "\n",
    "# Averaged KGE value per MP model\n",
    "print('\\nAveraged KGE values per MP model')\n",
    "print(KGE.mean(0).round(2))\n",
    "# Percent of dams with maximum KGE across all MP models\n",
    "PrctMaxKGE = pd.value_counts(np.argmax(KGE.values, axis=1)).sort_index()/ndam*100\n",
    "PrctMaxKGE.index = ['MP1', 'MP2', 'MP3', 'MP4', 'MP5']\n",
    "print('\\nPercent of dams with maximum KGE across all MP models')\n",
    "print(PrctMaxKGE.round(0))\n",
    "# Cross-correlation of KGE for all MP models\n",
    "print('\\nCross-correlation of KGE for all MP models')\n",
    "print(KGE.corr().round(2))\n",
    "\n",
    "\n",
    "# Save KGE Excel table\n",
    "if False:\n",
    "    KGE.to_excel('./data/prediction/kge.xlsx')\n",
    "    print('./data/prediction/kge.xlsx is saved.')"
   ]
  },
  {
   "cell_type": "markdown",
   "metadata": {},
   "source": [
    "#### DataFrame for mapping"
   ]
  },
  {
   "cell_type": "code",
   "execution_count": 33,
   "metadata": {},
   "outputs": [
    {
     "name": "stdout",
     "output_type": "stream",
     "text": [
      "./data/subset.hdf is saved.\n"
     ]
    },
    {
     "data": {
      "text/html": [
       "<div>\n",
       "<style scoped>\n",
       "    .dataframe tbody tr th:only-of-type {\n",
       "        vertical-align: middle;\n",
       "    }\n",
       "\n",
       "    .dataframe tbody tr th {\n",
       "        vertical-align: top;\n",
       "    }\n",
       "\n",
       "    .dataframe thead th {\n",
       "        text-align: right;\n",
       "    }\n",
       "</style>\n",
       "<table border=\"1\" class=\"dataframe\">\n",
       "  <thead>\n",
       "    <tr style=\"text-align: right;\">\n",
       "      <th></th>\n",
       "      <th>NMON_MP1</th>\n",
       "      <th>NMON_MP2</th>\n",
       "      <th>NMON_MP3</th>\n",
       "      <th>NMON_MP4</th>\n",
       "      <th>NMON_MP5</th>\n",
       "      <th>KGE_MP1</th>\n",
       "      <th>KGE_MP2</th>\n",
       "      <th>KGE_MP3</th>\n",
       "      <th>KGE_MP4</th>\n",
       "      <th>KGE_MP5</th>\n",
       "    </tr>\n",
       "    <tr>\n",
       "      <th>GRAND_ID</th>\n",
       "      <th></th>\n",
       "      <th></th>\n",
       "      <th></th>\n",
       "      <th></th>\n",
       "      <th></th>\n",
       "      <th></th>\n",
       "      <th></th>\n",
       "      <th></th>\n",
       "      <th></th>\n",
       "      <th></th>\n",
       "    </tr>\n",
       "  </thead>\n",
       "  <tbody>\n",
       "    <tr>\n",
       "      <td>6</td>\n",
       "      <td>10.0</td>\n",
       "      <td>8.0</td>\n",
       "      <td>6.0</td>\n",
       "      <td>7.0</td>\n",
       "      <td>5.0</td>\n",
       "      <td>0.771517</td>\n",
       "      <td>0.740698</td>\n",
       "      <td>0.726874</td>\n",
       "      <td>0.727000</td>\n",
       "      <td>0.724744</td>\n",
       "    </tr>\n",
       "    <tr>\n",
       "      <td>25</td>\n",
       "      <td>9.0</td>\n",
       "      <td>7.0</td>\n",
       "      <td>9.0</td>\n",
       "      <td>8.0</td>\n",
       "      <td>7.0</td>\n",
       "      <td>0.617319</td>\n",
       "      <td>0.564271</td>\n",
       "      <td>0.601437</td>\n",
       "      <td>0.615051</td>\n",
       "      <td>0.601788</td>\n",
       "    </tr>\n",
       "    <tr>\n",
       "      <td>27</td>\n",
       "      <td>6.0</td>\n",
       "      <td>3.0</td>\n",
       "      <td>6.0</td>\n",
       "      <td>5.0</td>\n",
       "      <td>5.0</td>\n",
       "      <td>0.609065</td>\n",
       "      <td>0.555172</td>\n",
       "      <td>0.574441</td>\n",
       "      <td>0.580823</td>\n",
       "      <td>0.570962</td>\n",
       "    </tr>\n",
       "    <tr>\n",
       "      <td>31</td>\n",
       "      <td>5.0</td>\n",
       "      <td>6.0</td>\n",
       "      <td>7.0</td>\n",
       "      <td>8.0</td>\n",
       "      <td>5.0</td>\n",
       "      <td>0.678594</td>\n",
       "      <td>0.682077</td>\n",
       "      <td>0.686184</td>\n",
       "      <td>0.713809</td>\n",
       "      <td>0.685329</td>\n",
       "    </tr>\n",
       "    <tr>\n",
       "      <td>35</td>\n",
       "      <td>6.0</td>\n",
       "      <td>8.0</td>\n",
       "      <td>7.0</td>\n",
       "      <td>6.0</td>\n",
       "      <td>5.0</td>\n",
       "      <td>0.402699</td>\n",
       "      <td>0.405489</td>\n",
       "      <td>0.394405</td>\n",
       "      <td>0.370539</td>\n",
       "      <td>0.369723</td>\n",
       "    </tr>\n",
       "  </tbody>\n",
       "</table>\n",
       "</div>"
      ],
      "text/plain": [
       "          NMON_MP1  NMON_MP2  NMON_MP3  NMON_MP4  NMON_MP5   KGE_MP1  \\\n",
       "GRAND_ID                                                               \n",
       "6             10.0       8.0       6.0       7.0       5.0  0.771517   \n",
       "25             9.0       7.0       9.0       8.0       7.0  0.617319   \n",
       "27             6.0       3.0       6.0       5.0       5.0  0.609065   \n",
       "31             5.0       6.0       7.0       8.0       5.0  0.678594   \n",
       "35             6.0       8.0       7.0       6.0       5.0  0.402699   \n",
       "\n",
       "           KGE_MP2   KGE_MP3   KGE_MP4   KGE_MP5  \n",
       "GRAND_ID                                          \n",
       "6         0.740698  0.726874  0.727000  0.724744  \n",
       "25        0.564271  0.601437  0.615051  0.601788  \n",
       "27        0.555172  0.574441  0.580823  0.570962  \n",
       "31        0.682077  0.686184  0.713809  0.685329  \n",
       "35        0.405489  0.394405  0.370539  0.369723  "
      ]
     },
     "execution_count": 33,
     "metadata": {},
     "output_type": "execute_result"
    }
   ],
   "source": [
    "subset = pd.merge(NumMonPred, KGE, left_index=True, right_index=True)\n",
    "subset.index.name = 'GRAND_ID'\n",
    "save_hdf('./data/subset.hdf', subset)\n",
    "subset.head()"
   ]
  },
  {
   "cell_type": "markdown",
   "metadata": {},
   "source": [
    "### (a) Percentage of dams correlated with each predictor per each month"
   ]
  },
  {
   "cell_type": "code",
   "execution_count": 34,
   "metadata": {},
   "outputs": [
    {
     "data": {
      "image/png": "[encoded data removed]",
      "text/plain": [
       "<Figure size 720x288 with 1 Axes>"
      ]
     },
     "metadata": {},
     "output_type": "display_data"
    },
    {
     "name": "stdout",
     "output_type": "stream",
     "text": [
      "./figures/pdam_correlated.pdf is saved.\n"
     ]
    }
   ],
   "source": [
    "clist = ['#2BAEB8', '#28A753', '#6BC30F', '#FAF600', '#F2B800', '#EC9400', \n",
    "         '#E4504A', '#C9121D', '#AA118B', '#671089', '#432F92', '#2A65B2']\n",
    "cmap = colors.ListedColormap(clist)\n",
    "\n",
    "# MultiBar\n",
    "sns.set(rc={'figure.figsize':(10,4)})\n",
    "sns.set_style(\"whitegrid\")\n",
    "ax = dfPrctDams.plot.bar(width=0.75, colormap=cmap)\n",
    "\n",
    "# Parameters\n",
    "ax.set_ylim([0,85])\n",
    "ax.set_xlim([-0.5,6.5])\n",
    "ax.tick_params(axis='both', which='major', labelsize=18)\n",
    "ax.set_ylabel('Percentage of dams (%)', fontsize=20)\n",
    "plt.xticks(range(0,7), dfPrctDams.index, rotation='horizontal')\n",
    "ax.legend(loc='upper right',bbox_to_anchor=(1.15,1.05), fontsize=13, frameon=False)\n",
    "plt.tight_layout\n",
    "plt.show()\n",
    "\n",
    "if True:\n",
    "    fn_save = './figures/pdam_correlated.pdf'\n",
    "    ax.figure.savefig(fn_save, bbox_inches='tight')\n",
    "    print('%s is saved.' % fn_save)\n",
    "    fn_save = './figures/pdam_correlated.png'\n",
    "    ax.figure.savefig(fn_save, bbox_inches='tight')\n"
   ]
  },
  {
   "cell_type": "code",
   "execution_count": 9,
   "metadata": {},
   "outputs": [
    {
     "data": {
      "text/plain": [
       "array([ 7.7834275 ,  8.32140615,  9.68863779, 10.94475832, 11.89265537,\n",
       "       12.76836158, 13.90709353, 15.19334589, 15.85561833, 16.34274953,\n",
       "       17.52730697, 18.61644696])"
      ]
     },
     "execution_count": 9,
     "metadata": {},
     "output_type": "execute_result"
    }
   ],
   "source": [
    "np.arange(1,13) - np.nanmean(amo_lead, 1) + 12"
   ]
  },
  {
   "cell_type": "code",
   "execution_count": null,
   "metadata": {},
   "outputs": [],
   "source": []
  },
  {
   "cell_type": "code",
   "execution_count": null,
   "metadata": {},
   "outputs": [],
   "source": []
  },
  {
   "cell_type": "code",
   "execution_count": null,
   "metadata": {},
   "outputs": [],
   "source": []
  },
  {
   "cell_type": "code",
   "execution_count": null,
   "metadata": {},
   "outputs": [],
   "source": []
  },
  {
   "cell_type": "code",
   "execution_count": null,
   "metadata": {},
   "outputs": [],
   "source": []
  }
 ],
 "metadata": {
  "kernelspec": {
   "display_name": "Python 3",
   "language": "python",
   "name": "python3"
  },
  "language_info": {
   "codemirror_mode": {
    "name": "ipython",
    "version": 3
   },
   "file_extension": ".py",
   "mimetype": "text/x-python",
   "name": "python",
   "nbconvert_exporter": "python",
   "pygments_lexer": "ipython3",
   "version": "3.6.7"
  }
 },
 "nbformat": 4,
 "nbformat_minor": 4
}
