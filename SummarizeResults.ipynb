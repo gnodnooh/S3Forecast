{
 "cells": [
  {
   "cell_type": "markdown",
   "metadata": {},
   "source": [
    "## This notebook summarize the prediction results"
   ]
  },
  {
   "cell_type": "code",
   "execution_count": 1,
   "metadata": {},
   "outputs": [],
   "source": [
    "import numpy as np\n",
    "import pandas as pd\n",
    "from pandas.tseries.offsets import MonthEnd\n",
    "from scipy.stats.stats import pearsonr\n",
    "from tools import MBOX, OUTBOX, save_hdf"
   ]
  },
  {
   "cell_type": "code",
   "execution_count": 13,
   "metadata": {},
   "outputs": [
    {
     "name": "stdout",
     "output_type": "stream",
     "text": [
      "All results are loaded.\n"
     ]
    }
   ],
   "source": [
    "# Load prediction output files\n",
    "mp1=[]; mp2=[]; mp3=[]; mp4=[]; mp5=[]\n",
    "for i in range(1593):\n",
    "    # Multiple file results\n",
    "    filn = './data/chtc_out/dfFlowDams{}_manu.npz'.format(i)\n",
    "    mp1.extend(np.load(filn,allow_pickle=True)['mp1'].tolist())\n",
    "    mp2.extend(np.load(filn,allow_pickle=True)['mp2'].tolist())\n",
    "    mp3.extend(np.load(filn,allow_pickle=True)['mp3'].tolist())\n",
    "    mp4.extend(np.load(filn,allow_pickle=True)['mp4'].tolist())\n",
    "    mp5.extend(np.load(filn,allow_pickle=True)['mp5'].tolist())\n",
    "print('All results are loaded.')\n",
    "\n",
    "# Load Dam Inflow data from SUTD\n",
    "dfFlowDams = pd.read_hdf('/Users/dlee/gdrive/gpower/data/dfFlowDams.hdf')\n",
    "ind_dams = np.load('/Users/dlee/gdrive/gpower/data/ind_dams.npz')['ind_dams']\n",
    "damList = ind_dams[0,:]\n",
    "ndam = len(damList)\n",
    "assert np.all([ybox['m01']['point_no'] for ybox in mp1] == damList)"
   ]
  },
  {
   "cell_type": "markdown",
   "metadata": {},
   "source": [
    "### Align prediction results"
   ]
  },
  {
   "cell_type": "code",
   "execution_count": 14,
   "metadata": {},
   "outputs": [
    {
     "name": "stdout",
     "output_type": "stream",
     "text": [
      "./data/prediction/dfMP1.hdf is saved.\n",
      "./data/prediction/dfMP2.hdf is saved.\n",
      "./data/prediction/dfMP3.hdf is saved.\n",
      "./data/prediction/dfMP4.hdf is saved.\n",
      "./data/prediction/dfMP5.hdf is saved.\n",
      "./data/prediction/dfMP1_sign.hdf is saved.\n",
      "./data/prediction/dfMP2_sign.hdf is saved.\n",
      "./data/prediction/dfMP3_sign.hdf is saved.\n",
      "./data/prediction/dfMP4_sign.hdf is saved.\n",
      "./data/prediction/dfMP5_sign.hdf is saved.\n"
     ]
    }
   ],
   "source": [
    "# Summary table\n",
    "arrMP1 = np.zeros(dfFlowDams.shape)     # MP1\n",
    "arrMP2 = arrMP1.copy()                  # MP2\n",
    "arrMP3 = arrMP1.copy()                  # MP3\n",
    "arrMP4 = arrMP1.copy()                  # MP4\n",
    "arrMP5 = arrMP1.copy()                  # MP5\n",
    "signMP1 = np.zeros([12, ndam])\n",
    "signMP2 = signMP1.copy()\n",
    "signMP3 = signMP1.copy()\n",
    "signMP4 = signMP1.copy()\n",
    "signMP5 = signMP1.copy()\n",
    "\n",
    "for i in range(ndam):\n",
    "    # Data preparation\n",
    "    point_no = mp1[i]['m01']['point_no']\n",
    "    y = dfFlowDams[point_no]\n",
    "    # Results tables\n",
    "    data = np.zeros([516, 6])       # Flow [obs, mp1, mp2, mp3, mp4, mp5]\n",
    "    sign = np.zeros([5, 13])        # isFcst [5mp, 12 months + sum] (\"not forecasted\" as default)\n",
    "    for j in range(1, 13):\n",
    "        # Monthly Prediction\n",
    "        # - Observed Inflow\n",
    "        yObs = y[y.index.month == j]\n",
    "        # yClm = yObs[:30].mean()                           # 30yr mean\n",
    "        yClm = yObs.mean()                                  # All-year mean\n",
    "        data[range(j-1,516,12), 0] = yObs\n",
    "        data[np.ix_(range(j-1,516,12), [1,2,3,4,5])] = yClm # Assign climatology first\n",
    "        # - M1 prediction\n",
    "        mbox = mp1[i]['m%02d' % j]\n",
    "        if 'gss' in mbox:\n",
    "            gss, msess = mbox['gss'], mbox['msess']\n",
    "            if (gss >= 0) & (msess >= 0):\n",
    "                # If prediction is better than climatology\n",
    "                yHat = np.exp(np.hstack((mbox['yTranHat'], mbox['yTestHat'])))\n",
    "                data[range(j-1,516,12), 1] = yHat       # prediction\n",
    "                sign[0,j-1] = 1                         # isFcst\n",
    "        # - M2 prediction\n",
    "        mbox = mp2[i]['m%02d' % j]\n",
    "        if 'gss' in mbox:\n",
    "            gss, msess = mbox['gss'], mbox['msess']\n",
    "            if (gss >= 0) & (msess >= 0):\n",
    "                # If prediction is better than climatology\n",
    "                yHat = np.exp(np.hstack((mbox['yTranHat'], mbox['yTestHat'])))\n",
    "                data[range(j-1,516,12), 2] = yHat       # prediction\n",
    "                sign[1,j-1] = 1                         # isFcst\n",
    "        # - M3 prediction\n",
    "        mbox = mp3[i]['m%02d' % j]\n",
    "        if 'gss' in mbox:\n",
    "            gss, msess = mbox['gss'], mbox['msess']\n",
    "            if (gss >= 0) & (msess >= 0):\n",
    "                # If prediction is better than climatology\n",
    "                yHat = np.exp(np.hstack((mbox['yTranHat'], mbox['yTestHat'])))\n",
    "                data[range(j-1,516,12), 3] = yHat       # prediction\n",
    "                sign[2,j-1] = 1                         # isFcst        \n",
    "        # - M4 prediction\n",
    "        mbox = mp4[i]['m%02d' % j]\n",
    "        if 'gss' in mbox:\n",
    "            gss, msess = mbox['gss'], mbox['msess']\n",
    "            if (gss >= 0) & (msess >= 0):\n",
    "                # If prediction is better than climatology\n",
    "                yHat = np.exp(np.hstack((mbox['yTranHat'], mbox['yTestHat'])))\n",
    "                data[range(j-1,516,12), 4] = yHat       # prediction\n",
    "                sign[3,j-1] = 1                         # isFcst\n",
    "        # - M5 prediction\n",
    "        mbox = mp5[i]['m%02d' % j]\n",
    "        if 'gss' in mbox:\n",
    "            gss, msess = mbox['gss'], mbox['msess']\n",
    "            if (gss >= 0) & (msess >= 0):\n",
    "                # If prediction is better than climatology\n",
    "                yHat = np.exp(np.hstack((mbox['yTranHat'], mbox['yTestHat'])))\n",
    "                data[range(j-1,516,12), 5] = yHat       # prediction\n",
    "                sign[4,j-1] = 1                         # isFcst\n",
    "        \n",
    "    \n",
    "    # Finish result tables\n",
    "    sign[:,-1] = np.sum(sign, axis=1)\n",
    "\n",
    "    # Copy time-series and signs(isFcst) of monthly prediction to Numpy array\n",
    "    arrMP1[:,i] = data[:,1]\n",
    "    arrMP2[:,i] = data[:,2]\n",
    "    arrMP3[:,i] = data[:,3]\n",
    "    arrMP4[:,i] = data[:,4]\n",
    "    arrMP5[:,i] = data[:,5]\n",
    "    signMP1[:,i] = sign[0,:-1]\n",
    "    signMP2[:,i] = sign[1,:-1]\n",
    "    signMP3[:,i] = sign[2,:-1]\n",
    "    signMP4[:,i] = sign[3,:-1]\n",
    "    signMP5[:,i] = sign[4,:-1]\n",
    "    \n",
    "    # Export prediction series as csv format\n",
    "    if True:\n",
    "        filn = './data/prediction/%s_series.xlsx' % point_no\n",
    "        index = dfFlowDams.index\n",
    "        dfFcst = pd.concat([pd.Series(data[:,0],index), \n",
    "                            pd.Series(data[:,1],index - MonthEnd(1)),\n",
    "                            pd.Series(data[:,2],index - MonthEnd(2)), \n",
    "                            pd.Series(data[:,3],index - MonthEnd(3)),\n",
    "                            pd.Series(data[:,4],index - MonthEnd(4)),\n",
    "                            pd.Series(data[:,5],index - MonthEnd(5)),\n",
    "                           ],\n",
    "                           axis=1)\n",
    "        dfFcst.columns = ['OBS', 'MP1', 'MP2', 'MP3', 'MP4', 'MP5']\n",
    "        dfFcst.to_excel(filn)\n",
    "        \n",
    "# Export time-series and signs of monthly forecasts\n",
    "dfMP1 = pd.DataFrame(arrMP1, dfFlowDams.index, dfFlowDams.columns)\n",
    "dfMP2 = pd.DataFrame(arrMP2, dfFlowDams.index, dfFlowDams.columns)\n",
    "dfMP3 = pd.DataFrame(arrMP3, dfFlowDams.index, dfFlowDams.columns)\n",
    "dfMP4 = pd.DataFrame(arrMP4, dfFlowDams.index, dfFlowDams.columns)\n",
    "dfMP5 = pd.DataFrame(arrMP5, dfFlowDams.index, dfFlowDams.columns)\n",
    "dfMP1_sign = pd.DataFrame(signMP1, range(1,13), dfFlowDams.columns)\n",
    "dfMP2_sign = pd.DataFrame(signMP2, range(1,13), dfFlowDams.columns)\n",
    "dfMP3_sign = pd.DataFrame(signMP3, range(1,13), dfFlowDams.columns)\n",
    "dfMP4_sign = pd.DataFrame(signMP4, range(1,13), dfFlowDams.columns)\n",
    "dfMP5_sign = pd.DataFrame(signMP5, range(1,13), dfFlowDams.columns)\n",
    "if True:\n",
    "    # Save time-series and plot\n",
    "    save_hdf('./data/prediction/dfMP1.hdf', dfMP1)\n",
    "    save_hdf('./data/prediction/dfMP2.hdf', dfMP2)\n",
    "    save_hdf('./data/prediction/dfMP3.hdf', dfMP3)\n",
    "    save_hdf('./data/prediction/dfMP4.hdf', dfMP4)\n",
    "    save_hdf('./data/prediction/dfMP5.hdf', dfMP5)\n",
    "    save_hdf('./data/prediction/dfMP1_sign.hdf', dfMP1_sign)\n",
    "    save_hdf('./data/prediction/dfMP2_sign.hdf', dfMP2_sign)\n",
    "    save_hdf('./data/prediction/dfMP3_sign.hdf', dfMP3_sign)\n",
    "    save_hdf('./data/prediction/dfMP4_sign.hdf', dfMP4_sign)\n",
    "    save_hdf('./data/prediction/dfMP5_sign.hdf', dfMP5_sign)"
   ]
  },
  {
   "cell_type": "code",
   "execution_count": null,
   "metadata": {},
   "outputs": [],
   "source": []
  },
  {
   "cell_type": "code",
   "execution_count": null,
   "metadata": {},
   "outputs": [],
   "source": []
  },
  {
   "cell_type": "code",
   "execution_count": null,
   "metadata": {},
   "outputs": [],
   "source": []
  },
  {
   "cell_type": "code",
   "execution_count": null,
   "metadata": {},
   "outputs": [],
   "source": []
  },
  {
   "cell_type": "code",
   "execution_count": null,
   "metadata": {},
   "outputs": [],
   "source": []
  },
  {
   "cell_type": "code",
   "execution_count": null,
   "metadata": {},
   "outputs": [],
   "source": []
  },
  {
   "cell_type": "code",
   "execution_count": null,
   "metadata": {},
   "outputs": [],
   "source": []
  },
  {
   "cell_type": "markdown",
   "metadata": {},
   "source": [
    "### Single output test"
   ]
  },
  {
   "cell_type": "code",
   "execution_count": 17,
   "metadata": {},
   "outputs": [],
   "source": [
    "filn = './data/chtc_out/dfFlowDams0_manu.npz'\n",
    "mp = np.load(filn,allow_pickle=True)['mp1'].tolist()"
   ]
  },
  {
   "cell_type": "code",
   "execution_count": null,
   "metadata": {},
   "outputs": [],
   "source": []
  }
 ],
 "metadata": {
  "kernelspec": {
   "display_name": "Python 3",
   "language": "python",
   "name": "python3"
  },
  "language_info": {
   "codemirror_mode": {
    "name": "ipython",
    "version": 3
   },
   "file_extension": ".py",
   "mimetype": "text/x-python",
   "name": "python",
   "nbconvert_exporter": "python",
   "pygments_lexer": "ipython3",
   "version": "3.6.7"
  }
 },
 "nbformat": 4,
 "nbformat_minor": 4
}
